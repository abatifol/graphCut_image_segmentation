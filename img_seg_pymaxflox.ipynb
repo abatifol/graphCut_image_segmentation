{
 "cells": [
  {
   "cell_type": "code",
   "execution_count": null,
   "metadata": {},
   "outputs": [],
   "source": [
    "import warnings\n",
    "import numpy as np\n",
    "\n",
    "warnings.simplefilter(\"ignore\", category=np.exceptions.VisibleDeprecationWarning)\n"
   ]
  },
  {
   "cell_type": "code",
   "execution_count": null,
   "metadata": {},
   "outputs": [],
   "source": [
    "%load_ext autoreload\n",
    "%autoreload 2"
   ]
  },
  {
   "cell_type": "code",
   "execution_count": null,
   "metadata": {},
   "outputs": [],
   "source": [
    "from graph_cut import * \n"
   ]
  },
  {
   "cell_type": "code",
   "execution_count": null,
   "metadata": {},
   "outputs": [],
   "source": [
    "import cv2\n",
    "import numpy as np\n",
    "import matplotlib.pyplot as plt\n",
    "import scipy.spatial\n",
    "from sklearn.cluster import KMeans\n",
    "import maxflow\n",
    "from graph_cut import * \n"
   ]
  },
  {
   "cell_type": "code",
   "execution_count": null,
   "metadata": {},
   "outputs": [],
   "source": [
    "image_path = \"images/cow.ppm\"  # Replace with actual image path\n",
    "K=4\n",
    "image = load_image(image_path)\n",
    "print(image.shape)\n",
    "labels = initialize_labels_bis(image, K=K, method='kmeans')\n",
    "print(\"labels\", labels.shape)\n",
    "show_segmentation(image, labels,title=\"test\")\n",
    "show_dominant_colors(labels=labels,image=image,K=K)"
   ]
  },
  {
   "cell_type": "code",
   "execution_count": null,
   "metadata": {},
   "outputs": [],
   "source": [
    "image_path = \"images/cow.ppm\"  # Replace with actual image path\n",
    "K=4\n",
    "image = load_image(image_path)\n",
    "labels = initialize_labels_bis(image, K=K, method='kmeans')\n",
    "show_segmentation(image, labels,title=\"initial segmentation\")\n",
    "\n",
    "histograms = compute_histograms(image, labels, K=K, bins = 16)\n",
    "unary_term = compute_unary_term(image, labels,histograms, K=K, bins=16)\n",
    "pairwise_term = compute_pairwise_term(image, K=K, lambda_val=200)\n"
   ]
  },
  {
   "cell_type": "code",
   "execution_count": null,
   "metadata": {},
   "outputs": [],
   "source": [
    "labels=np.argmin(unary_term, axis=2)\n",
    "print(labels.shape)\n",
    "from graph_cut.alpha_expansion import Alpha_expansion2\n",
    "a_exp=Alpha_expansion2(image=image,unary=unary_term,pairwise=pairwise_term,K=K,max_iterations=4)\n",
    "labels=a_exp.run(image)"
   ]
  },
  {
   "cell_type": "markdown",
   "metadata": {},
   "source": [
    "## Other iterations:\n",
    "Better unary term ? "
   ]
  },
  {
   "cell_type": "code",
   "execution_count": null,
   "metadata": {},
   "outputs": [],
   "source": []
  }
 ],
 "metadata": {
  "kernelspec": {
   "display_name": "mva_sat",
   "language": "python",
   "name": "python3"
  },
  "language_info": {
   "codemirror_mode": {
    "name": "ipython",
    "version": 3
   },
   "file_extension": ".py",
   "mimetype": "text/x-python",
   "name": "python",
   "nbconvert_exporter": "python",
   "pygments_lexer": "ipython3",
   "version": "3.13.2"
  }
 },
 "nbformat": 4,
 "nbformat_minor": 2
}
